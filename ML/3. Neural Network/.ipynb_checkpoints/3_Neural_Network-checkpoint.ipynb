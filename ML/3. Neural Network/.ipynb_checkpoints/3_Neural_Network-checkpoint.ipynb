{
 "cells": [
  {
   "cell_type": "code",
   "execution_count": 1,
   "metadata": {
    "id": "atw2Xac9I0xl"
   },
   "outputs": [],
   "source": [
    "import numpy as np\n",
    "import matplotlib.pyplot as plt\n",
    "import pandas as pd\n",
    "import seaborn as sns\n",
    "sns.set()"
   ]
  },
  {
   "cell_type": "code",
   "execution_count": 2,
   "metadata": {
    "colab": {
     "base_uri": "https://localhost:8080/",
     "height": 302
    },
    "id": "NPfi2q75I0xl",
    "outputId": "1f049900-3b13-433a-fa05-c439e3d9c2de"
   },
   "outputs": [
    {
     "data": {
      "text/html": [
       "<div>\n",
       "<style scoped>\n",
       "    .dataframe tbody tr th:only-of-type {\n",
       "        vertical-align: middle;\n",
       "    }\n",
       "\n",
       "    .dataframe tbody tr th {\n",
       "        vertical-align: top;\n",
       "    }\n",
       "\n",
       "    .dataframe thead th {\n",
       "        text-align: right;\n",
       "    }\n",
       "</style>\n",
       "<table border=\"1\" class=\"dataframe\">\n",
       "  <thead>\n",
       "    <tr style=\"text-align: right;\">\n",
       "      <th></th>\n",
       "      <th>CustomerId</th>\n",
       "      <th>Surname</th>\n",
       "      <th>CreditScore</th>\n",
       "      <th>Geography</th>\n",
       "      <th>Gender</th>\n",
       "      <th>Age</th>\n",
       "      <th>Tenure</th>\n",
       "      <th>Balance</th>\n",
       "      <th>NumOfProducts</th>\n",
       "      <th>HasCrCard</th>\n",
       "      <th>IsActiveMember</th>\n",
       "      <th>EstimatedSalary</th>\n",
       "      <th>Exited</th>\n",
       "    </tr>\n",
       "    <tr>\n",
       "      <th>RowNumber</th>\n",
       "      <th></th>\n",
       "      <th></th>\n",
       "      <th></th>\n",
       "      <th></th>\n",
       "      <th></th>\n",
       "      <th></th>\n",
       "      <th></th>\n",
       "      <th></th>\n",
       "      <th></th>\n",
       "      <th></th>\n",
       "      <th></th>\n",
       "      <th></th>\n",
       "      <th></th>\n",
       "    </tr>\n",
       "  </thead>\n",
       "  <tbody>\n",
       "    <tr>\n",
       "      <th>1</th>\n",
       "      <td>15634602</td>\n",
       "      <td>Hargrave</td>\n",
       "      <td>619</td>\n",
       "      <td>France</td>\n",
       "      <td>Female</td>\n",
       "      <td>42</td>\n",
       "      <td>2</td>\n",
       "      <td>0.00</td>\n",
       "      <td>1</td>\n",
       "      <td>1</td>\n",
       "      <td>1</td>\n",
       "      <td>101348.88</td>\n",
       "      <td>1</td>\n",
       "    </tr>\n",
       "    <tr>\n",
       "      <th>2</th>\n",
       "      <td>15647311</td>\n",
       "      <td>Hill</td>\n",
       "      <td>608</td>\n",
       "      <td>Spain</td>\n",
       "      <td>Female</td>\n",
       "      <td>41</td>\n",
       "      <td>1</td>\n",
       "      <td>83807.86</td>\n",
       "      <td>1</td>\n",
       "      <td>0</td>\n",
       "      <td>1</td>\n",
       "      <td>112542.58</td>\n",
       "      <td>0</td>\n",
       "    </tr>\n",
       "    <tr>\n",
       "      <th>3</th>\n",
       "      <td>15619304</td>\n",
       "      <td>Onio</td>\n",
       "      <td>502</td>\n",
       "      <td>France</td>\n",
       "      <td>Female</td>\n",
       "      <td>42</td>\n",
       "      <td>8</td>\n",
       "      <td>159660.80</td>\n",
       "      <td>3</td>\n",
       "      <td>1</td>\n",
       "      <td>0</td>\n",
       "      <td>113931.57</td>\n",
       "      <td>1</td>\n",
       "    </tr>\n",
       "    <tr>\n",
       "      <th>4</th>\n",
       "      <td>15701354</td>\n",
       "      <td>Boni</td>\n",
       "      <td>699</td>\n",
       "      <td>France</td>\n",
       "      <td>Female</td>\n",
       "      <td>39</td>\n",
       "      <td>1</td>\n",
       "      <td>0.00</td>\n",
       "      <td>2</td>\n",
       "      <td>0</td>\n",
       "      <td>0</td>\n",
       "      <td>93826.63</td>\n",
       "      <td>0</td>\n",
       "    </tr>\n",
       "    <tr>\n",
       "      <th>5</th>\n",
       "      <td>15737888</td>\n",
       "      <td>Mitchell</td>\n",
       "      <td>850</td>\n",
       "      <td>Spain</td>\n",
       "      <td>Female</td>\n",
       "      <td>43</td>\n",
       "      <td>2</td>\n",
       "      <td>125510.82</td>\n",
       "      <td>1</td>\n",
       "      <td>1</td>\n",
       "      <td>1</td>\n",
       "      <td>79084.10</td>\n",
       "      <td>0</td>\n",
       "    </tr>\n",
       "  </tbody>\n",
       "</table>\n",
       "</div>"
      ],
      "text/plain": [
       "           CustomerId   Surname  CreditScore Geography  Gender  Age  Tenure  \\\n",
       "RowNumber                                                                     \n",
       "1            15634602  Hargrave          619    France  Female   42       2   \n",
       "2            15647311      Hill          608     Spain  Female   41       1   \n",
       "3            15619304      Onio          502    France  Female   42       8   \n",
       "4            15701354      Boni          699    France  Female   39       1   \n",
       "5            15737888  Mitchell          850     Spain  Female   43       2   \n",
       "\n",
       "             Balance  NumOfProducts  HasCrCard  IsActiveMember  \\\n",
       "RowNumber                                                        \n",
       "1               0.00              1          1               1   \n",
       "2           83807.86              1          0               1   \n",
       "3          159660.80              3          1               0   \n",
       "4               0.00              2          0               0   \n",
       "5          125510.82              1          1               1   \n",
       "\n",
       "           EstimatedSalary  Exited  \n",
       "RowNumber                           \n",
       "1                101348.88       1  \n",
       "2                112542.58       0  \n",
       "3                113931.57       1  \n",
       "4                 93826.63       0  \n",
       "5                 79084.10       0  "
      ]
     },
     "execution_count": 2,
     "metadata": {},
     "output_type": "execute_result"
    }
   ],
   "source": [
    "dataset = pd.read_csv('./Churn_Modelling.csv', index_col = 'RowNumber')\n",
    "dataset.head()\n"
   ]
  },
  {
   "cell_type": "code",
   "execution_count": 3,
   "metadata": {
    "colab": {
     "base_uri": "https://localhost:8080/"
    },
    "id": "jelFHwknI0xm",
    "outputId": "e8e8af69-44e3-4b72-84cf-e15d6b026a5f"
   },
   "outputs": [
    {
     "name": "stdout",
     "output_type": "stream",
     "text": [
      "['CreditScore', 'Geography', 'Gender', 'Age', 'Tenure', 'Balance', 'NumOfProducts', 'HasCrCard', 'IsActiveMember', 'EstimatedSalary']\n",
      "['Exited']\n"
     ]
    }
   ],
   "source": [
    "#Customer ID and Surname would not be relevant as features\n",
    "X_columns = dataset.columns.tolist()[2:12]\n",
    "Y_columns = dataset.columns.tolist()[-1:]\n",
    "print(X_columns)\n",
    "print(Y_columns)"
   ]
  },
  {
   "cell_type": "code",
   "execution_count": 4,
   "metadata": {
    "id": "_EnXaCYmI0xn"
   },
   "outputs": [],
   "source": [
    "X = dataset[X_columns].values \n",
    "Y = dataset[Y_columns].values"
   ]
  },
  {
   "cell_type": "code",
   "execution_count": 5,
   "metadata": {
    "id": "cjbVx3FRI0xn"
   },
   "outputs": [],
   "source": [
    "#We need to encode categorical variables such as geography and gender\n",
    "from sklearn.preprocessing import LabelEncoder\n",
    "X_column_transformer = LabelEncoder()\n",
    "X[:, 1] = X_column_transformer.fit_transform(X[:, 1])"
   ]
  },
  {
   "cell_type": "code",
   "execution_count": 6,
   "metadata": {
    "id": "tS02t4y9I0xn"
   },
   "outputs": [],
   "source": [
    "#Lets Encode gender now\n",
    "X[:, 2] = X_column_transformer.fit_transform(X[:, 2])"
   ]
  },
  {
   "cell_type": "markdown",
   "metadata": {
    "id": "DKwFc-HWI0xo"
   },
   "source": [
    "We are treating countries with ordinal values(0 < 1 < 2) but they are incomparable.\n",
    "To solve this we can use one hot encoding.\n",
    "We will perform some standardization "
   ]
  },
  {
   "cell_type": "code",
   "execution_count": 7,
   "metadata": {
    "id": "v-bI9UNiI0xo"
   },
   "outputs": [],
   "source": [
    "from sklearn.preprocessing import StandardScaler, OneHotEncoder\n",
    "from sklearn.compose import ColumnTransformer\n",
    "from sklearn.pipeline import Pipeline\n",
    "\n",
    "pipeline = Pipeline(\n",
    "    [\n",
    "        ('Categorizer', ColumnTransformer(\n",
    "            [\n",
    "                (\"Gender Label Encoder\", OneHotEncoder(categories = 'auto', drop = 'first'), [2]),\n",
    "                (\"Geography Label Encoder\", OneHotEncoder(categories = 'auto', drop = 'first'), [1])\n",
    "            ], \n",
    "            remainder = 'passthrough', n_jobs = 1)),\n",
    "        ('Normalizer', StandardScaler())\n",
    "    ]\n",
    ")"
   ]
  },
  {
   "cell_type": "code",
   "execution_count": 8,
   "metadata": {
    "id": "7_TO_-fQI0xp"
   },
   "outputs": [],
   "source": [
    "#Standardize the features\n",
    "X = pipeline.fit_transform(X)"
   ]
  },
  {
   "cell_type": "code",
   "execution_count": 9,
   "metadata": {
    "id": "OJ7VUetiI0xq"
   },
   "outputs": [],
   "source": [
    "#Spilt the data\n",
    "from sklearn.model_selection import train_test_split\n",
    "X_train, X_test, y_train, y_test = train_test_split(X, Y, test_size = 0.2, random_state = 0)"
   ]
  },
  {
   "cell_type": "code",
   "execution_count": 12,
   "metadata": {
    "id": "mX35INUFI0xr"
   },
   "outputs": [],
   "source": [
    "#Let us create the Neural Network\n",
    "from keras.models import Sequential\n",
    "from keras.layers import Dense, Dropout"
   ]
  },
  {
   "cell_type": "code",
   "execution_count": 13,
   "metadata": {
    "id": "VYIsyqOUI0xs"
   },
   "outputs": [],
   "source": [
    "#Initialize ANN\n",
    "classifier = Sequential()"
   ]
  },
  {
   "cell_type": "code",
   "execution_count": 14,
   "metadata": {
    "id": "i3nH8oOhJcp8"
   },
   "outputs": [],
   "source": [
    "#Add input layer and hidden layer\n",
    "classifier.add(Dense(6, activation = 'relu', input_shape = (X_train.shape[1], )))\n",
    "classifier.add(Dropout(rate = 0.1))"
   ]
  },
  {
   "cell_type": "code",
   "execution_count": 15,
   "metadata": {
    "id": "gULE3c-YPvsI"
   },
   "outputs": [],
   "source": [
    "#Add second layer\n",
    "classifier.add(Dense(6, activation = 'relu'))\n",
    "classifier.add(Dropout(rate = 0.1))"
   ]
  },
  {
   "cell_type": "code",
   "execution_count": 16,
   "metadata": {
    "id": "j_XpNLaSP9Qk"
   },
   "outputs": [],
   "source": [
    "#Add output layer\n",
    "classifier.add(Dense(1, activation = 'sigmoid'))"
   ]
  },
  {
   "cell_type": "code",
   "execution_count": 17,
   "metadata": {
    "colab": {
     "base_uri": "https://localhost:8080/"
    },
    "id": "5rodKUhIQUWH",
    "outputId": "a8dd63ea-6662-41f3-a43b-4f3f4567a06d"
   },
   "outputs": [
    {
     "name": "stdout",
     "output_type": "stream",
     "text": [
      "Model: \"sequential\"\n",
      "_________________________________________________________________\n",
      " Layer (type)                Output Shape              Param #   \n",
      "=================================================================\n",
      " dense (Dense)               (None, 6)                 72        \n",
      "                                                                 \n",
      " dropout (Dropout)           (None, 6)                 0         \n",
      "                                                                 \n",
      " dense_1 (Dense)             (None, 6)                 42        \n",
      "                                                                 \n",
      " dropout_1 (Dropout)         (None, 6)                 0         \n",
      "                                                                 \n",
      " dense_2 (Dense)             (None, 1)                 7         \n",
      "                                                                 \n",
      "=================================================================\n",
      "Total params: 121 (484.00 Byte)\n",
      "Trainable params: 121 (484.00 Byte)\n",
      "Non-trainable params: 0 (0.00 Byte)\n",
      "_________________________________________________________________\n"
     ]
    }
   ],
   "source": [
    "#Let us take a look at our network\n",
    "classifier.summary()"
   ]
  },
  {
   "cell_type": "code",
   "execution_count": 18,
   "metadata": {
    "id": "XfHGyyviSXed"
   },
   "outputs": [],
   "source": [
    "#Optimize the weights\n",
    "classifier.compile(optimizer = 'adam', loss = 'binary_crossentropy', metrics = ['accuracy'])"
   ]
  },
  {
   "cell_type": "code",
   "execution_count": 19,
   "metadata": {
    "colab": {
     "base_uri": "https://localhost:8080/"
    },
    "id": "7px7qzJQVhan",
    "outputId": "09d47fa7-684c-424c-f144-e86492bcfa24"
   },
   "outputs": [
    {
     "name": "stdout",
     "output_type": "stream",
     "text": [
      "Epoch 1/200\n",
      "225/225 - 1s - loss: 0.6294 - accuracy: 0.7292 - val_loss: 0.5269 - val_accuracy: 0.8025 - 1s/epoch - 6ms/step\n",
      "Epoch 2/200\n",
      "225/225 - 0s - loss: 0.5058 - accuracy: 0.7993 - val_loss: 0.4642 - val_accuracy: 0.8025 - 389ms/epoch - 2ms/step\n",
      "Epoch 3/200\n",
      "225/225 - 0s - loss: 0.4749 - accuracy: 0.8039 - val_loss: 0.4397 - val_accuracy: 0.8087 - 375ms/epoch - 2ms/step\n",
      "Epoch 4/200\n",
      "225/225 - 0s - loss: 0.4610 - accuracy: 0.8108 - val_loss: 0.4271 - val_accuracy: 0.8150 - 345ms/epoch - 2ms/step\n",
      "Epoch 5/200\n",
      "225/225 - 0s - loss: 0.4496 - accuracy: 0.8125 - val_loss: 0.4175 - val_accuracy: 0.8225 - 353ms/epoch - 2ms/step\n",
      "Epoch 6/200\n",
      "225/225 - 0s - loss: 0.4440 - accuracy: 0.8140 - val_loss: 0.4123 - val_accuracy: 0.8288 - 333ms/epoch - 1ms/step\n",
      "Epoch 7/200\n",
      "225/225 - 0s - loss: 0.4385 - accuracy: 0.8126 - val_loss: 0.4102 - val_accuracy: 0.8288 - 330ms/epoch - 1ms/step\n",
      "Epoch 8/200\n",
      "225/225 - 0s - loss: 0.4339 - accuracy: 0.8136 - val_loss: 0.4072 - val_accuracy: 0.8288 - 332ms/epoch - 1ms/step\n",
      "Epoch 9/200\n",
      "225/225 - 0s - loss: 0.4373 - accuracy: 0.8128 - val_loss: 0.4051 - val_accuracy: 0.8288 - 337ms/epoch - 1ms/step\n",
      "Epoch 10/200\n",
      "225/225 - 0s - loss: 0.4317 - accuracy: 0.8156 - val_loss: 0.4023 - val_accuracy: 0.8238 - 331ms/epoch - 1ms/step\n",
      "Epoch 11/200\n",
      "225/225 - 0s - loss: 0.4334 - accuracy: 0.8160 - val_loss: 0.4010 - val_accuracy: 0.8275 - 334ms/epoch - 1ms/step\n",
      "Epoch 12/200\n",
      "225/225 - 0s - loss: 0.4309 - accuracy: 0.8178 - val_loss: 0.3991 - val_accuracy: 0.8300 - 329ms/epoch - 1ms/step\n",
      "Epoch 13/200\n",
      "225/225 - 0s - loss: 0.4321 - accuracy: 0.8140 - val_loss: 0.3980 - val_accuracy: 0.8325 - 317ms/epoch - 1ms/step\n",
      "Epoch 14/200\n",
      "225/225 - 0s - loss: 0.4269 - accuracy: 0.8204 - val_loss: 0.3959 - val_accuracy: 0.8263 - 334ms/epoch - 1ms/step\n",
      "Epoch 15/200\n",
      "225/225 - 0s - loss: 0.4236 - accuracy: 0.8201 - val_loss: 0.3939 - val_accuracy: 0.8263 - 325ms/epoch - 1ms/step\n",
      "Epoch 16/200\n",
      "225/225 - 0s - loss: 0.4236 - accuracy: 0.8194 - val_loss: 0.3922 - val_accuracy: 0.8313 - 324ms/epoch - 1ms/step\n",
      "Epoch 17/200\n",
      "225/225 - 0s - loss: 0.4207 - accuracy: 0.8218 - val_loss: 0.3907 - val_accuracy: 0.8313 - 330ms/epoch - 1ms/step\n",
      "Epoch 18/200\n",
      "225/225 - 0s - loss: 0.4206 - accuracy: 0.8213 - val_loss: 0.3896 - val_accuracy: 0.8338 - 341ms/epoch - 2ms/step\n",
      "Epoch 19/200\n",
      "225/225 - 0s - loss: 0.4183 - accuracy: 0.8222 - val_loss: 0.3884 - val_accuracy: 0.8338 - 323ms/epoch - 1ms/step\n",
      "Epoch 20/200\n",
      "225/225 - 0s - loss: 0.4196 - accuracy: 0.8185 - val_loss: 0.3880 - val_accuracy: 0.8338 - 367ms/epoch - 2ms/step\n",
      "Epoch 21/200\n",
      "225/225 - 0s - loss: 0.4231 - accuracy: 0.8183 - val_loss: 0.3870 - val_accuracy: 0.8375 - 339ms/epoch - 2ms/step\n",
      "Epoch 22/200\n",
      "225/225 - 0s - loss: 0.4149 - accuracy: 0.8217 - val_loss: 0.3856 - val_accuracy: 0.8363 - 346ms/epoch - 2ms/step\n",
      "Epoch 23/200\n",
      "225/225 - 0s - loss: 0.4173 - accuracy: 0.8243 - val_loss: 0.3839 - val_accuracy: 0.8375 - 325ms/epoch - 1ms/step\n",
      "Epoch 24/200\n",
      "225/225 - 0s - loss: 0.4128 - accuracy: 0.8236 - val_loss: 0.3829 - val_accuracy: 0.8400 - 333ms/epoch - 1ms/step\n",
      "Epoch 25/200\n",
      "225/225 - 0s - loss: 0.4160 - accuracy: 0.8246 - val_loss: 0.3825 - val_accuracy: 0.8375 - 351ms/epoch - 2ms/step\n",
      "Epoch 26/200\n",
      "225/225 - 0s - loss: 0.4114 - accuracy: 0.8244 - val_loss: 0.3787 - val_accuracy: 0.8450 - 326ms/epoch - 1ms/step\n",
      "Epoch 27/200\n",
      "225/225 - 0s - loss: 0.4121 - accuracy: 0.8199 - val_loss: 0.3783 - val_accuracy: 0.8388 - 313ms/epoch - 1ms/step\n",
      "Epoch 28/200\n",
      "225/225 - 0s - loss: 0.4107 - accuracy: 0.8238 - val_loss: 0.3769 - val_accuracy: 0.8425 - 308ms/epoch - 1ms/step\n",
      "Epoch 29/200\n",
      "225/225 - 0s - loss: 0.4106 - accuracy: 0.8240 - val_loss: 0.3764 - val_accuracy: 0.8400 - 313ms/epoch - 1ms/step\n",
      "Epoch 30/200\n",
      "225/225 - 0s - loss: 0.4083 - accuracy: 0.8268 - val_loss: 0.3741 - val_accuracy: 0.8400 - 323ms/epoch - 1ms/step\n",
      "Epoch 31/200\n",
      "225/225 - 0s - loss: 0.4078 - accuracy: 0.8250 - val_loss: 0.3740 - val_accuracy: 0.8375 - 355ms/epoch - 2ms/step\n",
      "Epoch 32/200\n",
      "225/225 - 0s - loss: 0.4065 - accuracy: 0.8265 - val_loss: 0.3715 - val_accuracy: 0.8400 - 340ms/epoch - 2ms/step\n",
      "Epoch 33/200\n",
      "225/225 - 0s - loss: 0.4096 - accuracy: 0.8254 - val_loss: 0.3728 - val_accuracy: 0.8425 - 338ms/epoch - 2ms/step\n",
      "Epoch 34/200\n",
      "225/225 - 0s - loss: 0.4066 - accuracy: 0.8253 - val_loss: 0.3705 - val_accuracy: 0.8400 - 441ms/epoch - 2ms/step\n",
      "Epoch 35/200\n",
      "225/225 - 0s - loss: 0.4032 - accuracy: 0.8282 - val_loss: 0.3694 - val_accuracy: 0.8425 - 382ms/epoch - 2ms/step\n",
      "Epoch 36/200\n",
      "225/225 - 0s - loss: 0.4031 - accuracy: 0.8261 - val_loss: 0.3681 - val_accuracy: 0.8400 - 361ms/epoch - 2ms/step\n",
      "Epoch 37/200\n",
      "225/225 - 0s - loss: 0.4054 - accuracy: 0.8249 - val_loss: 0.3688 - val_accuracy: 0.8413 - 349ms/epoch - 2ms/step\n",
      "Epoch 38/200\n",
      "225/225 - 0s - loss: 0.4041 - accuracy: 0.8253 - val_loss: 0.3667 - val_accuracy: 0.8400 - 347ms/epoch - 2ms/step\n",
      "Epoch 39/200\n",
      "225/225 - 0s - loss: 0.4073 - accuracy: 0.8253 - val_loss: 0.3653 - val_accuracy: 0.8400 - 350ms/epoch - 2ms/step\n",
      "Epoch 40/200\n",
      "225/225 - 0s - loss: 0.4064 - accuracy: 0.8218 - val_loss: 0.3663 - val_accuracy: 0.8425 - 350ms/epoch - 2ms/step\n",
      "Epoch 41/200\n",
      "225/225 - 0s - loss: 0.3976 - accuracy: 0.8272 - val_loss: 0.3641 - val_accuracy: 0.8425 - 344ms/epoch - 2ms/step\n",
      "Epoch 42/200\n",
      "225/225 - 0s - loss: 0.3999 - accuracy: 0.8275 - val_loss: 0.3631 - val_accuracy: 0.8413 - 366ms/epoch - 2ms/step\n",
      "Epoch 43/200\n",
      "225/225 - 0s - loss: 0.3980 - accuracy: 0.8261 - val_loss: 0.3622 - val_accuracy: 0.8413 - 318ms/epoch - 1ms/step\n",
      "Epoch 44/200\n",
      "225/225 - 0s - loss: 0.4028 - accuracy: 0.8242 - val_loss: 0.3617 - val_accuracy: 0.8438 - 315ms/epoch - 1ms/step\n",
      "Epoch 45/200\n",
      "225/225 - 0s - loss: 0.3968 - accuracy: 0.8283 - val_loss: 0.3601 - val_accuracy: 0.8462 - 315ms/epoch - 1ms/step\n",
      "Epoch 46/200\n",
      "225/225 - 0s - loss: 0.3972 - accuracy: 0.8288 - val_loss: 0.3593 - val_accuracy: 0.8450 - 338ms/epoch - 2ms/step\n",
      "Epoch 47/200\n",
      "225/225 - 0s - loss: 0.3986 - accuracy: 0.8253 - val_loss: 0.3585 - val_accuracy: 0.8413 - 331ms/epoch - 1ms/step\n",
      "Epoch 48/200\n",
      "225/225 - 0s - loss: 0.3948 - accuracy: 0.8263 - val_loss: 0.3582 - val_accuracy: 0.8438 - 332ms/epoch - 1ms/step\n",
      "Epoch 49/200\n",
      "225/225 - 0s - loss: 0.3985 - accuracy: 0.8256 - val_loss: 0.3579 - val_accuracy: 0.8425 - 315ms/epoch - 1ms/step\n",
      "Epoch 50/200\n",
      "225/225 - 0s - loss: 0.3950 - accuracy: 0.8239 - val_loss: 0.3570 - val_accuracy: 0.8425 - 331ms/epoch - 1ms/step\n",
      "Epoch 51/200\n",
      "225/225 - 0s - loss: 0.3983 - accuracy: 0.8276 - val_loss: 0.3549 - val_accuracy: 0.8438 - 331ms/epoch - 1ms/step\n",
      "Epoch 52/200\n",
      "225/225 - 0s - loss: 0.3973 - accuracy: 0.8257 - val_loss: 0.3568 - val_accuracy: 0.8425 - 355ms/epoch - 2ms/step\n",
      "Epoch 53/200\n",
      "225/225 - 0s - loss: 0.3962 - accuracy: 0.8267 - val_loss: 0.3548 - val_accuracy: 0.8487 - 358ms/epoch - 2ms/step\n",
      "Epoch 54/200\n",
      "225/225 - 0s - loss: 0.3955 - accuracy: 0.8243 - val_loss: 0.3559 - val_accuracy: 0.8425 - 350ms/epoch - 2ms/step\n",
      "Epoch 55/200\n",
      "225/225 - 0s - loss: 0.3970 - accuracy: 0.8258 - val_loss: 0.3532 - val_accuracy: 0.8450 - 394ms/epoch - 2ms/step\n",
      "Epoch 56/200\n",
      "225/225 - 0s - loss: 0.3979 - accuracy: 0.8251 - val_loss: 0.3531 - val_accuracy: 0.8500 - 332ms/epoch - 1ms/step\n",
      "Epoch 57/200\n",
      "225/225 - 0s - loss: 0.3962 - accuracy: 0.8240 - val_loss: 0.3538 - val_accuracy: 0.8475 - 325ms/epoch - 1ms/step\n",
      "Epoch 58/200\n",
      "225/225 - 0s - loss: 0.3900 - accuracy: 0.8235 - val_loss: 0.3522 - val_accuracy: 0.8475 - 341ms/epoch - 2ms/step\n",
      "Epoch 59/200\n",
      "225/225 - 0s - loss: 0.3943 - accuracy: 0.8269 - val_loss: 0.3536 - val_accuracy: 0.8462 - 370ms/epoch - 2ms/step\n",
      "Epoch 60/200\n",
      "225/225 - 0s - loss: 0.3950 - accuracy: 0.8257 - val_loss: 0.3516 - val_accuracy: 0.8462 - 399ms/epoch - 2ms/step\n",
      "Epoch 61/200\n",
      "225/225 - 0s - loss: 0.3961 - accuracy: 0.8247 - val_loss: 0.3515 - val_accuracy: 0.8475 - 357ms/epoch - 2ms/step\n",
      "Epoch 62/200\n",
      "225/225 - 0s - loss: 0.3953 - accuracy: 0.8285 - val_loss: 0.3511 - val_accuracy: 0.8475 - 365ms/epoch - 2ms/step\n",
      "Epoch 63/200\n",
      "225/225 - 0s - loss: 0.3946 - accuracy: 0.8300 - val_loss: 0.3506 - val_accuracy: 0.8462 - 359ms/epoch - 2ms/step\n",
      "Epoch 64/200\n",
      "225/225 - 0s - loss: 0.3945 - accuracy: 0.8310 - val_loss: 0.3503 - val_accuracy: 0.8475 - 326ms/epoch - 1ms/step\n",
      "Epoch 65/200\n",
      "225/225 - 0s - loss: 0.3978 - accuracy: 0.8297 - val_loss: 0.3512 - val_accuracy: 0.8425 - 365ms/epoch - 2ms/step\n",
      "Epoch 66/200\n",
      "225/225 - 0s - loss: 0.3918 - accuracy: 0.8318 - val_loss: 0.3520 - val_accuracy: 0.8438 - 305ms/epoch - 1ms/step\n",
      "Epoch 67/200\n",
      "225/225 - 0s - loss: 0.3970 - accuracy: 0.8296 - val_loss: 0.3497 - val_accuracy: 0.8438 - 404ms/epoch - 2ms/step\n",
      "Epoch 68/200\n",
      "225/225 - 0s - loss: 0.3914 - accuracy: 0.8285 - val_loss: 0.3512 - val_accuracy: 0.8475 - 345ms/epoch - 2ms/step\n",
      "Epoch 69/200\n",
      "225/225 - 0s - loss: 0.3907 - accuracy: 0.8313 - val_loss: 0.3507 - val_accuracy: 0.8438 - 336ms/epoch - 1ms/step\n",
      "Epoch 70/200\n",
      "225/225 - 0s - loss: 0.3952 - accuracy: 0.8299 - val_loss: 0.3522 - val_accuracy: 0.8462 - 341ms/epoch - 2ms/step\n",
      "Epoch 71/200\n",
      "225/225 - 0s - loss: 0.3934 - accuracy: 0.8303 - val_loss: 0.3505 - val_accuracy: 0.8450 - 300ms/epoch - 1ms/step\n",
      "Epoch 72/200\n",
      "225/225 - 0s - loss: 0.3936 - accuracy: 0.8317 - val_loss: 0.3509 - val_accuracy: 0.8462 - 316ms/epoch - 1ms/step\n",
      "Epoch 73/200\n",
      "225/225 - 0s - loss: 0.3925 - accuracy: 0.8299 - val_loss: 0.3519 - val_accuracy: 0.8462 - 399ms/epoch - 2ms/step\n",
      "Epoch 74/200\n",
      "225/225 - 0s - loss: 0.3925 - accuracy: 0.8307 - val_loss: 0.3507 - val_accuracy: 0.8438 - 405ms/epoch - 2ms/step\n",
      "Epoch 75/200\n",
      "225/225 - 0s - loss: 0.3911 - accuracy: 0.8319 - val_loss: 0.3507 - val_accuracy: 0.8462 - 404ms/epoch - 2ms/step\n",
      "Epoch 76/200\n",
      "225/225 - 0s - loss: 0.3957 - accuracy: 0.8265 - val_loss: 0.3493 - val_accuracy: 0.8450 - 332ms/epoch - 1ms/step\n",
      "Epoch 77/200\n",
      "225/225 - 0s - loss: 0.3915 - accuracy: 0.8307 - val_loss: 0.3477 - val_accuracy: 0.8425 - 334ms/epoch - 1ms/step\n",
      "Epoch 78/200\n",
      "225/225 - 0s - loss: 0.3919 - accuracy: 0.8304 - val_loss: 0.3486 - val_accuracy: 0.8462 - 372ms/epoch - 2ms/step\n",
      "Epoch 79/200\n",
      "225/225 - 0s - loss: 0.3927 - accuracy: 0.8325 - val_loss: 0.3506 - val_accuracy: 0.8450 - 324ms/epoch - 1ms/step\n",
      "Epoch 80/200\n",
      "225/225 - 0s - loss: 0.3908 - accuracy: 0.8308 - val_loss: 0.3472 - val_accuracy: 0.8462 - 365ms/epoch - 2ms/step\n",
      "Epoch 81/200\n",
      "225/225 - 0s - loss: 0.3896 - accuracy: 0.8325 - val_loss: 0.3470 - val_accuracy: 0.8462 - 336ms/epoch - 1ms/step\n",
      "Epoch 82/200\n",
      "225/225 - 0s - loss: 0.3925 - accuracy: 0.8285 - val_loss: 0.3462 - val_accuracy: 0.8450 - 347ms/epoch - 2ms/step\n",
      "Epoch 83/200\n",
      "225/225 - 0s - loss: 0.3900 - accuracy: 0.8303 - val_loss: 0.3449 - val_accuracy: 0.8425 - 316ms/epoch - 1ms/step\n",
      "Epoch 84/200\n",
      "225/225 - 0s - loss: 0.3928 - accuracy: 0.8310 - val_loss: 0.3464 - val_accuracy: 0.8438 - 350ms/epoch - 2ms/step\n",
      "Epoch 85/200\n",
      "225/225 - 0s - loss: 0.3915 - accuracy: 0.8329 - val_loss: 0.3468 - val_accuracy: 0.8450 - 334ms/epoch - 1ms/step\n",
      "Epoch 86/200\n",
      "225/225 - 0s - loss: 0.3913 - accuracy: 0.8293 - val_loss: 0.3455 - val_accuracy: 0.8413 - 311ms/epoch - 1ms/step\n",
      "Epoch 87/200\n",
      "225/225 - 0s - loss: 0.3885 - accuracy: 0.8318 - val_loss: 0.3462 - val_accuracy: 0.8425 - 336ms/epoch - 1ms/step\n",
      "Epoch 88/200\n",
      "225/225 - 0s - loss: 0.3913 - accuracy: 0.8306 - val_loss: 0.3442 - val_accuracy: 0.8413 - 369ms/epoch - 2ms/step\n",
      "Epoch 89/200\n",
      "225/225 - 0s - loss: 0.3943 - accuracy: 0.8301 - val_loss: 0.3463 - val_accuracy: 0.8425 - 341ms/epoch - 2ms/step\n",
      "Epoch 90/200\n",
      "225/225 - 0s - loss: 0.3932 - accuracy: 0.8292 - val_loss: 0.3456 - val_accuracy: 0.8450 - 370ms/epoch - 2ms/step\n",
      "Epoch 91/200\n",
      "225/225 - 0s - loss: 0.3928 - accuracy: 0.8297 - val_loss: 0.3467 - val_accuracy: 0.8438 - 326ms/epoch - 1ms/step\n",
      "Epoch 92/200\n",
      "225/225 - 0s - loss: 0.3872 - accuracy: 0.8331 - val_loss: 0.3480 - val_accuracy: 0.8438 - 388ms/epoch - 2ms/step\n",
      "Epoch 93/200\n",
      "225/225 - 0s - loss: 0.3913 - accuracy: 0.8342 - val_loss: 0.3451 - val_accuracy: 0.8438 - 378ms/epoch - 2ms/step\n",
      "Epoch 94/200\n",
      "225/225 - 0s - loss: 0.3917 - accuracy: 0.8338 - val_loss: 0.3475 - val_accuracy: 0.8425 - 331ms/epoch - 1ms/step\n",
      "Epoch 95/200\n",
      "225/225 - 0s - loss: 0.3897 - accuracy: 0.8303 - val_loss: 0.3460 - val_accuracy: 0.8438 - 364ms/epoch - 2ms/step\n",
      "Epoch 96/200\n",
      "225/225 - 0s - loss: 0.3891 - accuracy: 0.8343 - val_loss: 0.3461 - val_accuracy: 0.8400 - 357ms/epoch - 2ms/step\n",
      "Epoch 97/200\n",
      "225/225 - 0s - loss: 0.3941 - accuracy: 0.8324 - val_loss: 0.3462 - val_accuracy: 0.8475 - 375ms/epoch - 2ms/step\n",
      "Epoch 98/200\n",
      "225/225 - 0s - loss: 0.3924 - accuracy: 0.8314 - val_loss: 0.3453 - val_accuracy: 0.8450 - 340ms/epoch - 2ms/step\n",
      "Epoch 99/200\n",
      "225/225 - 0s - loss: 0.3877 - accuracy: 0.8329 - val_loss: 0.3445 - val_accuracy: 0.8438 - 334ms/epoch - 1ms/step\n",
      "Epoch 100/200\n",
      "225/225 - 0s - loss: 0.3936 - accuracy: 0.8310 - val_loss: 0.3484 - val_accuracy: 0.8450 - 336ms/epoch - 1ms/step\n",
      "Epoch 101/200\n",
      "225/225 - 0s - loss: 0.3939 - accuracy: 0.8308 - val_loss: 0.3472 - val_accuracy: 0.8487 - 353ms/epoch - 2ms/step\n",
      "Epoch 102/200\n",
      "225/225 - 0s - loss: 0.3880 - accuracy: 0.8321 - val_loss: 0.3437 - val_accuracy: 0.8462 - 330ms/epoch - 1ms/step\n",
      "Epoch 103/200\n",
      "225/225 - 0s - loss: 0.3906 - accuracy: 0.8339 - val_loss: 0.3472 - val_accuracy: 0.8450 - 346ms/epoch - 2ms/step\n",
      "Epoch 104/200\n",
      "225/225 - 0s - loss: 0.3898 - accuracy: 0.8329 - val_loss: 0.3436 - val_accuracy: 0.8462 - 332ms/epoch - 1ms/step\n",
      "Epoch 105/200\n",
      "225/225 - 0s - loss: 0.3851 - accuracy: 0.8364 - val_loss: 0.3450 - val_accuracy: 0.8475 - 334ms/epoch - 1ms/step\n",
      "Epoch 106/200\n",
      "225/225 - 0s - loss: 0.3928 - accuracy: 0.8313 - val_loss: 0.3473 - val_accuracy: 0.8450 - 313ms/epoch - 1ms/step\n",
      "Epoch 107/200\n",
      "225/225 - 0s - loss: 0.3893 - accuracy: 0.8342 - val_loss: 0.3482 - val_accuracy: 0.8462 - 332ms/epoch - 1ms/step\n",
      "Epoch 108/200\n",
      "225/225 - 0s - loss: 0.3917 - accuracy: 0.8317 - val_loss: 0.3453 - val_accuracy: 0.8450 - 343ms/epoch - 2ms/step\n",
      "Epoch 109/200\n",
      "225/225 - 0s - loss: 0.3909 - accuracy: 0.8307 - val_loss: 0.3460 - val_accuracy: 0.8475 - 325ms/epoch - 1ms/step\n",
      "Epoch 110/200\n",
      "225/225 - 0s - loss: 0.3888 - accuracy: 0.8335 - val_loss: 0.3419 - val_accuracy: 0.8487 - 325ms/epoch - 1ms/step\n",
      "Epoch 111/200\n",
      "225/225 - 0s - loss: 0.3907 - accuracy: 0.8317 - val_loss: 0.3413 - val_accuracy: 0.8462 - 335ms/epoch - 1ms/step\n",
      "Epoch 112/200\n",
      "225/225 - 0s - loss: 0.3918 - accuracy: 0.8319 - val_loss: 0.3456 - val_accuracy: 0.8462 - 439ms/epoch - 2ms/step\n",
      "Epoch 113/200\n",
      "225/225 - 0s - loss: 0.3881 - accuracy: 0.8350 - val_loss: 0.3440 - val_accuracy: 0.8537 - 374ms/epoch - 2ms/step\n",
      "Epoch 114/200\n",
      "225/225 - 0s - loss: 0.3904 - accuracy: 0.8293 - val_loss: 0.3436 - val_accuracy: 0.8512 - 334ms/epoch - 1ms/step\n",
      "Epoch 115/200\n",
      "225/225 - 0s - loss: 0.3891 - accuracy: 0.8328 - val_loss: 0.3432 - val_accuracy: 0.8487 - 331ms/epoch - 1ms/step\n",
      "Epoch 116/200\n",
      "225/225 - 0s - loss: 0.3888 - accuracy: 0.8288 - val_loss: 0.3445 - val_accuracy: 0.8500 - 316ms/epoch - 1ms/step\n",
      "Epoch 117/200\n",
      "225/225 - 0s - loss: 0.3911 - accuracy: 0.8282 - val_loss: 0.3476 - val_accuracy: 0.8500 - 435ms/epoch - 2ms/step\n",
      "Epoch 118/200\n",
      "225/225 - 0s - loss: 0.3959 - accuracy: 0.8303 - val_loss: 0.3475 - val_accuracy: 0.8500 - 478ms/epoch - 2ms/step\n",
      "Epoch 119/200\n",
      "225/225 - 0s - loss: 0.3903 - accuracy: 0.8297 - val_loss: 0.3442 - val_accuracy: 0.8537 - 369ms/epoch - 2ms/step\n",
      "Epoch 120/200\n",
      "225/225 - 0s - loss: 0.3879 - accuracy: 0.8313 - val_loss: 0.3462 - val_accuracy: 0.8475 - 425ms/epoch - 2ms/step\n",
      "Epoch 121/200\n",
      "225/225 - 0s - loss: 0.3876 - accuracy: 0.8318 - val_loss: 0.3449 - val_accuracy: 0.8512 - 366ms/epoch - 2ms/step\n",
      "Epoch 122/200\n",
      "225/225 - 0s - loss: 0.3915 - accuracy: 0.8360 - val_loss: 0.3412 - val_accuracy: 0.8487 - 368ms/epoch - 2ms/step\n",
      "Epoch 123/200\n",
      "225/225 - 0s - loss: 0.3916 - accuracy: 0.8326 - val_loss: 0.3412 - val_accuracy: 0.8512 - 332ms/epoch - 1ms/step\n",
      "Epoch 124/200\n",
      "225/225 - 0s - loss: 0.3860 - accuracy: 0.8329 - val_loss: 0.3422 - val_accuracy: 0.8537 - 341ms/epoch - 2ms/step\n",
      "Epoch 125/200\n",
      "225/225 - 0s - loss: 0.3854 - accuracy: 0.8339 - val_loss: 0.3408 - val_accuracy: 0.8537 - 454ms/epoch - 2ms/step\n",
      "Epoch 126/200\n",
      "225/225 - 0s - loss: 0.3915 - accuracy: 0.8311 - val_loss: 0.3442 - val_accuracy: 0.8525 - 384ms/epoch - 2ms/step\n",
      "Epoch 127/200\n",
      "225/225 - 0s - loss: 0.3895 - accuracy: 0.8322 - val_loss: 0.3477 - val_accuracy: 0.8525 - 315ms/epoch - 1ms/step\n",
      "Epoch 128/200\n",
      "225/225 - 0s - loss: 0.3923 - accuracy: 0.8318 - val_loss: 0.3430 - val_accuracy: 0.8525 - 319ms/epoch - 1ms/step\n",
      "Epoch 129/200\n",
      "225/225 - 0s - loss: 0.3885 - accuracy: 0.8331 - val_loss: 0.3441 - val_accuracy: 0.8537 - 351ms/epoch - 2ms/step\n",
      "Epoch 130/200\n",
      "225/225 - 0s - loss: 0.3901 - accuracy: 0.8321 - val_loss: 0.3421 - val_accuracy: 0.8525 - 332ms/epoch - 1ms/step\n",
      "Epoch 131/200\n",
      "225/225 - 0s - loss: 0.3875 - accuracy: 0.8338 - val_loss: 0.3418 - val_accuracy: 0.8475 - 348ms/epoch - 2ms/step\n",
      "Epoch 132/200\n",
      "225/225 - 0s - loss: 0.3873 - accuracy: 0.8331 - val_loss: 0.3430 - val_accuracy: 0.8537 - 345ms/epoch - 2ms/step\n",
      "Epoch 133/200\n",
      "225/225 - 0s - loss: 0.3918 - accuracy: 0.8294 - val_loss: 0.3436 - val_accuracy: 0.8525 - 324ms/epoch - 1ms/step\n",
      "Epoch 134/200\n",
      "225/225 - 0s - loss: 0.3887 - accuracy: 0.8340 - val_loss: 0.3431 - val_accuracy: 0.8525 - 324ms/epoch - 1ms/step\n",
      "Epoch 135/200\n",
      "225/225 - 0s - loss: 0.3916 - accuracy: 0.8336 - val_loss: 0.3420 - val_accuracy: 0.8500 - 336ms/epoch - 1ms/step\n",
      "Epoch 136/200\n",
      "225/225 - 0s - loss: 0.3900 - accuracy: 0.8353 - val_loss: 0.3412 - val_accuracy: 0.8525 - 481ms/epoch - 2ms/step\n",
      "Epoch 137/200\n",
      "225/225 - 0s - loss: 0.3900 - accuracy: 0.8328 - val_loss: 0.3435 - val_accuracy: 0.8537 - 438ms/epoch - 2ms/step\n",
      "Epoch 138/200\n",
      "225/225 - 0s - loss: 0.3879 - accuracy: 0.8315 - val_loss: 0.3426 - val_accuracy: 0.8512 - 459ms/epoch - 2ms/step\n",
      "Epoch 139/200\n",
      "225/225 - 0s - loss: 0.3895 - accuracy: 0.8319 - val_loss: 0.3433 - val_accuracy: 0.8500 - 375ms/epoch - 2ms/step\n",
      "Epoch 140/200\n",
      "225/225 - 0s - loss: 0.3911 - accuracy: 0.8310 - val_loss: 0.3424 - val_accuracy: 0.8525 - 410ms/epoch - 2ms/step\n",
      "Epoch 141/200\n",
      "225/225 - 0s - loss: 0.3888 - accuracy: 0.8324 - val_loss: 0.3417 - val_accuracy: 0.8500 - 462ms/epoch - 2ms/step\n",
      "Epoch 142/200\n",
      "225/225 - 0s - loss: 0.3873 - accuracy: 0.8353 - val_loss: 0.3403 - val_accuracy: 0.8487 - 459ms/epoch - 2ms/step\n",
      "Epoch 143/200\n",
      "225/225 - 0s - loss: 0.3890 - accuracy: 0.8336 - val_loss: 0.3399 - val_accuracy: 0.8512 - 341ms/epoch - 2ms/step\n",
      "Epoch 144/200\n",
      "225/225 - 0s - loss: 0.3833 - accuracy: 0.8343 - val_loss: 0.3387 - val_accuracy: 0.8512 - 313ms/epoch - 1ms/step\n",
      "Epoch 145/200\n",
      "225/225 - 0s - loss: 0.3882 - accuracy: 0.8339 - val_loss: 0.3385 - val_accuracy: 0.8500 - 338ms/epoch - 2ms/step\n",
      "Epoch 146/200\n",
      "225/225 - 0s - loss: 0.3875 - accuracy: 0.8351 - val_loss: 0.3394 - val_accuracy: 0.8550 - 421ms/epoch - 2ms/step\n",
      "Epoch 147/200\n",
      "225/225 - 0s - loss: 0.3913 - accuracy: 0.8313 - val_loss: 0.3390 - val_accuracy: 0.8562 - 333ms/epoch - 1ms/step\n",
      "Epoch 148/200\n",
      "225/225 - 0s - loss: 0.3895 - accuracy: 0.8350 - val_loss: 0.3436 - val_accuracy: 0.8550 - 339ms/epoch - 2ms/step\n",
      "Epoch 149/200\n",
      "225/225 - 0s - loss: 0.3859 - accuracy: 0.8363 - val_loss: 0.3414 - val_accuracy: 0.8537 - 304ms/epoch - 1ms/step\n",
      "Epoch 150/200\n",
      "225/225 - 0s - loss: 0.3837 - accuracy: 0.8331 - val_loss: 0.3386 - val_accuracy: 0.8537 - 310ms/epoch - 1ms/step\n",
      "Epoch 151/200\n",
      "225/225 - 0s - loss: 0.3902 - accuracy: 0.8324 - val_loss: 0.3409 - val_accuracy: 0.8512 - 315ms/epoch - 1ms/step\n",
      "Epoch 152/200\n",
      "225/225 - 0s - loss: 0.3854 - accuracy: 0.8354 - val_loss: 0.3386 - val_accuracy: 0.8550 - 309ms/epoch - 1ms/step\n",
      "Epoch 153/200\n",
      "225/225 - 0s - loss: 0.3903 - accuracy: 0.8339 - val_loss: 0.3400 - val_accuracy: 0.8512 - 343ms/epoch - 2ms/step\n",
      "Epoch 154/200\n",
      "225/225 - 0s - loss: 0.3891 - accuracy: 0.8349 - val_loss: 0.3398 - val_accuracy: 0.8487 - 324ms/epoch - 1ms/step\n",
      "Epoch 155/200\n",
      "225/225 - 0s - loss: 0.3899 - accuracy: 0.8339 - val_loss: 0.3440 - val_accuracy: 0.8512 - 325ms/epoch - 1ms/step\n",
      "Epoch 156/200\n",
      "225/225 - 0s - loss: 0.3884 - accuracy: 0.8344 - val_loss: 0.3392 - val_accuracy: 0.8537 - 349ms/epoch - 2ms/step\n",
      "Epoch 157/200\n",
      "225/225 - 0s - loss: 0.3858 - accuracy: 0.8356 - val_loss: 0.3402 - val_accuracy: 0.8512 - 384ms/epoch - 2ms/step\n",
      "Epoch 158/200\n",
      "225/225 - 0s - loss: 0.3900 - accuracy: 0.8338 - val_loss: 0.3413 - val_accuracy: 0.8537 - 377ms/epoch - 2ms/step\n",
      "Epoch 159/200\n",
      "225/225 - 0s - loss: 0.3918 - accuracy: 0.8340 - val_loss: 0.3433 - val_accuracy: 0.8550 - 343ms/epoch - 2ms/step\n",
      "Epoch 160/200\n",
      "225/225 - 0s - loss: 0.3864 - accuracy: 0.8346 - val_loss: 0.3388 - val_accuracy: 0.8525 - 333ms/epoch - 1ms/step\n",
      "Epoch 161/200\n",
      "225/225 - 0s - loss: 0.3853 - accuracy: 0.8353 - val_loss: 0.3417 - val_accuracy: 0.8537 - 317ms/epoch - 1ms/step\n",
      "Epoch 162/200\n",
      "225/225 - 0s - loss: 0.3830 - accuracy: 0.8365 - val_loss: 0.3375 - val_accuracy: 0.8550 - 340ms/epoch - 2ms/step\n",
      "Epoch 163/200\n",
      "225/225 - 0s - loss: 0.3868 - accuracy: 0.8339 - val_loss: 0.3384 - val_accuracy: 0.8550 - 324ms/epoch - 1ms/step\n",
      "Epoch 164/200\n",
      "225/225 - 0s - loss: 0.3903 - accuracy: 0.8343 - val_loss: 0.3425 - val_accuracy: 0.8537 - 311ms/epoch - 1ms/step\n",
      "Epoch 165/200\n",
      "225/225 - 0s - loss: 0.3870 - accuracy: 0.8360 - val_loss: 0.3391 - val_accuracy: 0.8537 - 471ms/epoch - 2ms/step\n",
      "Epoch 166/200\n",
      "225/225 - 0s - loss: 0.3878 - accuracy: 0.8342 - val_loss: 0.3388 - val_accuracy: 0.8525 - 376ms/epoch - 2ms/step\n",
      "Epoch 167/200\n",
      "225/225 - 0s - loss: 0.3890 - accuracy: 0.8351 - val_loss: 0.3412 - val_accuracy: 0.8500 - 395ms/epoch - 2ms/step\n",
      "Epoch 168/200\n",
      "225/225 - 0s - loss: 0.3919 - accuracy: 0.8335 - val_loss: 0.3410 - val_accuracy: 0.8525 - 337ms/epoch - 1ms/step\n",
      "Epoch 169/200\n",
      "225/225 - 0s - loss: 0.3863 - accuracy: 0.8333 - val_loss: 0.3407 - val_accuracy: 0.8537 - 353ms/epoch - 2ms/step\n",
      "Epoch 170/200\n",
      "225/225 - 0s - loss: 0.3881 - accuracy: 0.8318 - val_loss: 0.3413 - val_accuracy: 0.8512 - 326ms/epoch - 1ms/step\n",
      "Epoch 171/200\n",
      "225/225 - 0s - loss: 0.3886 - accuracy: 0.8367 - val_loss: 0.3410 - val_accuracy: 0.8512 - 332ms/epoch - 1ms/step\n",
      "Epoch 172/200\n",
      "225/225 - 0s - loss: 0.3865 - accuracy: 0.8338 - val_loss: 0.3424 - val_accuracy: 0.8537 - 321ms/epoch - 1ms/step\n",
      "Epoch 173/200\n",
      "225/225 - 0s - loss: 0.3897 - accuracy: 0.8319 - val_loss: 0.3408 - val_accuracy: 0.8525 - 315ms/epoch - 1ms/step\n",
      "Epoch 174/200\n",
      "225/225 - 0s - loss: 0.3891 - accuracy: 0.8333 - val_loss: 0.3411 - val_accuracy: 0.8550 - 319ms/epoch - 1ms/step\n",
      "Epoch 175/200\n",
      "225/225 - 0s - loss: 0.3874 - accuracy: 0.8349 - val_loss: 0.3404 - val_accuracy: 0.8537 - 449ms/epoch - 2ms/step\n",
      "Epoch 176/200\n",
      "225/225 - 0s - loss: 0.3904 - accuracy: 0.8356 - val_loss: 0.3407 - val_accuracy: 0.8537 - 374ms/epoch - 2ms/step\n",
      "Epoch 177/200\n",
      "225/225 - 0s - loss: 0.3884 - accuracy: 0.8360 - val_loss: 0.3381 - val_accuracy: 0.8525 - 366ms/epoch - 2ms/step\n",
      "Epoch 178/200\n",
      "225/225 - 0s - loss: 0.3892 - accuracy: 0.8322 - val_loss: 0.3406 - val_accuracy: 0.8512 - 349ms/epoch - 2ms/step\n",
      "Epoch 179/200\n",
      "225/225 - 0s - loss: 0.3855 - accuracy: 0.8356 - val_loss: 0.3421 - val_accuracy: 0.8525 - 382ms/epoch - 2ms/step\n",
      "Epoch 180/200\n",
      "225/225 - 0s - loss: 0.3828 - accuracy: 0.8364 - val_loss: 0.3400 - val_accuracy: 0.8500 - 396ms/epoch - 2ms/step\n",
      "Epoch 181/200\n",
      "225/225 - 0s - loss: 0.3891 - accuracy: 0.8356 - val_loss: 0.3424 - val_accuracy: 0.8525 - 386ms/epoch - 2ms/step\n",
      "Epoch 182/200\n",
      "225/225 - 0s - loss: 0.3858 - accuracy: 0.8342 - val_loss: 0.3405 - val_accuracy: 0.8525 - 367ms/epoch - 2ms/step\n",
      "Epoch 183/200\n",
      "225/225 - 0s - loss: 0.3884 - accuracy: 0.8347 - val_loss: 0.3426 - val_accuracy: 0.8500 - 415ms/epoch - 2ms/step\n",
      "Epoch 184/200\n",
      "225/225 - 0s - loss: 0.3873 - accuracy: 0.8361 - val_loss: 0.3444 - val_accuracy: 0.8537 - 365ms/epoch - 2ms/step\n",
      "Epoch 185/200\n",
      "225/225 - 0s - loss: 0.3821 - accuracy: 0.8347 - val_loss: 0.3401 - val_accuracy: 0.8500 - 383ms/epoch - 2ms/step\n",
      "Epoch 186/200\n",
      "225/225 - 0s - loss: 0.3884 - accuracy: 0.8349 - val_loss: 0.3389 - val_accuracy: 0.8500 - 321ms/epoch - 1ms/step\n",
      "Epoch 187/200\n",
      "225/225 - 0s - loss: 0.3908 - accuracy: 0.8361 - val_loss: 0.3431 - val_accuracy: 0.8525 - 313ms/epoch - 1ms/step\n",
      "Epoch 188/200\n",
      "225/225 - 0s - loss: 0.3884 - accuracy: 0.8340 - val_loss: 0.3404 - val_accuracy: 0.8500 - 340ms/epoch - 2ms/step\n",
      "Epoch 189/200\n",
      "225/225 - 0s - loss: 0.3894 - accuracy: 0.8313 - val_loss: 0.3435 - val_accuracy: 0.8500 - 321ms/epoch - 1ms/step\n",
      "Epoch 190/200\n",
      "225/225 - 0s - loss: 0.3885 - accuracy: 0.8344 - val_loss: 0.3445 - val_accuracy: 0.8512 - 304ms/epoch - 1ms/step\n",
      "Epoch 191/200\n",
      "225/225 - 0s - loss: 0.3845 - accuracy: 0.8364 - val_loss: 0.3399 - val_accuracy: 0.8512 - 317ms/epoch - 1ms/step\n",
      "Epoch 192/200\n",
      "225/225 - 0s - loss: 0.3911 - accuracy: 0.8335 - val_loss: 0.3422 - val_accuracy: 0.8475 - 304ms/epoch - 1ms/step\n",
      "Epoch 193/200\n",
      "225/225 - 0s - loss: 0.3895 - accuracy: 0.8364 - val_loss: 0.3407 - val_accuracy: 0.8500 - 399ms/epoch - 2ms/step\n",
      "Epoch 194/200\n",
      "225/225 - 0s - loss: 0.3912 - accuracy: 0.8343 - val_loss: 0.3421 - val_accuracy: 0.8500 - 321ms/epoch - 1ms/step\n",
      "Epoch 195/200\n",
      "225/225 - 0s - loss: 0.3891 - accuracy: 0.8336 - val_loss: 0.3443 - val_accuracy: 0.8512 - 332ms/epoch - 1ms/step\n",
      "Epoch 196/200\n",
      "225/225 - 0s - loss: 0.3836 - accuracy: 0.8378 - val_loss: 0.3426 - val_accuracy: 0.8487 - 334ms/epoch - 1ms/step\n",
      "Epoch 197/200\n",
      "225/225 - 0s - loss: 0.3868 - accuracy: 0.8368 - val_loss: 0.3410 - val_accuracy: 0.8512 - 316ms/epoch - 1ms/step\n",
      "Epoch 198/200\n",
      "225/225 - 0s - loss: 0.3857 - accuracy: 0.8340 - val_loss: 0.3442 - val_accuracy: 0.8525 - 297ms/epoch - 1ms/step\n",
      "Epoch 199/200\n",
      "225/225 - 0s - loss: 0.3899 - accuracy: 0.8340 - val_loss: 0.3435 - val_accuracy: 0.8512 - 344ms/epoch - 2ms/step\n",
      "Epoch 200/200\n",
      "225/225 - 0s - loss: 0.3844 - accuracy: 0.8365 - val_loss: 0.3444 - val_accuracy: 0.8537 - 367ms/epoch - 2ms/step\n"
     ]
    }
   ],
   "source": [
    "#Fitting the Neural Network\n",
    "history = classifier.fit(X_train, y_train, batch_size = 32, epochs = 200, validation_split = 0.1, verbose = 2)"
   ]
  },
  {
   "cell_type": "code",
   "execution_count": 20,
   "metadata": {
    "colab": {
     "base_uri": "https://localhost:8080/"
    },
    "id": "aq1-eNM2YqL8",
    "outputId": "0fd0fa0a-cf54-4637-f8b6-f15342002a15"
   },
   "outputs": [
    {
     "name": "stdout",
     "output_type": "stream",
     "text": [
      "63/63 [==============================] - 0s 1ms/step\n",
      "[[0.3097128 ]\n",
      " [0.31520241]\n",
      " [0.19641985]\n",
      " [0.07842003]\n",
      " [0.20013928]]\n"
     ]
    }
   ],
   "source": [
    "y_pred = classifier.predict(X_test)\n",
    "print(y_pred[:5])"
   ]
  },
  {
   "cell_type": "code",
   "execution_count": 21,
   "metadata": {
    "colab": {
     "base_uri": "https://localhost:8080/"
    },
    "id": "S8JJz5bLY-7I",
    "outputId": "00827497-0dfb-49c4-d70b-2071d70ae5f0"
   },
   "outputs": [
    {
     "name": "stdout",
     "output_type": "stream",
     "text": [
      "[[0]\n",
      " [0]\n",
      " [0]\n",
      " [0]\n",
      " [0]]\n"
     ]
    }
   ],
   "source": [
    "#Let us use confusion matrix with cutoff value as 0.5\n",
    "y_pred = (y_pred > 0.5).astype(int)\n",
    "print(y_pred[:5])"
   ]
  },
  {
   "cell_type": "code",
   "execution_count": 20,
   "metadata": {
    "colab": {
     "base_uri": "https://localhost:8080/"
    },
    "id": "Bcyv6h2UZPbO",
    "outputId": "6ca6b222-2516-4b03-c081-1ba7feaa6817"
   },
   "outputs": [
    {
     "name": "stdout",
     "output_type": "stream",
     "text": [
      "[[1532   63]\n",
      " [ 239  166]]\n"
     ]
    }
   ],
   "source": [
    "#Making the Matrix\n",
    "from sklearn.metrics import confusion_matrix\n",
    "cm = confusion_matrix(y_test, y_pred)\n",
    "print(cm)"
   ]
  },
  {
   "cell_type": "code",
   "execution_count": 21,
   "metadata": {
    "colab": {
     "base_uri": "https://localhost:8080/"
    },
    "id": "l3weViSLZc1v",
    "outputId": "64895b62-30f8-4e86-e592-d3fae20b2673"
   },
   "outputs": [
    {
     "name": "stdout",
     "output_type": "stream",
     "text": [
      "84.9 % of data was classified correctly\n"
     ]
    }
   ],
   "source": [
    "#Accuracy of our NN\n",
    "print(((cm[0][0] + cm[1][1])* 100) / len(y_test), '% of data was classified correctly')"
   ]
  }
 ],
 "metadata": {
  "colab": {
   "provenance": []
  },
  "interpreter": {
   "hash": "f82e9eef39fec3b4432bd3d531b07136b7f172564442eec42315ae171445fe6f"
  },
  "kernelspec": {
   "display_name": "Python 3 (ipykernel)",
   "language": "python",
   "name": "python3"
  },
  "language_info": {
   "codemirror_mode": {
    "name": "ipython",
    "version": 3
   },
   "file_extension": ".py",
   "mimetype": "text/x-python",
   "name": "python",
   "nbconvert_exporter": "python",
   "pygments_lexer": "ipython3",
   "version": "3.9.13"
  }
 },
 "nbformat": 4,
 "nbformat_minor": 1
}
